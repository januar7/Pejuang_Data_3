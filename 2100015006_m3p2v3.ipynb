{
  "nbformat": 4,
  "nbformat_minor": 0,
  "metadata": {
    "colab": {
      "name": "2100015006_m3p2v3.ipynb",
      "provenance": [],
      "collapsed_sections": [],
      "authorship_tag": "ABX9TyO7h7FbbQUj0KlrHmIghbaW",
      "include_colab_link": true
    },
    "kernelspec": {
      "name": "python3",
      "display_name": "Python 3"
    },
    "language_info": {
      "name": "python"
    }
  },
  "cells": [
    {
      "cell_type": "markdown",
      "metadata": {
        "id": "view-in-github",
        "colab_type": "text"
      },
      "source": [
        "<a href=\"https://colab.research.google.com/github/januar7/Pejuang_Data_3/blob/main/2100015006_m3p2v3.ipynb\" target=\"_parent\"><img src=\"https://colab.research.google.com/assets/colab-badge.svg\" alt=\"Open In Colab\"/></a>"
      ]
    },
    {
      "cell_type": "markdown",
      "metadata": {
        "id": "FFDzribtdmsk"
      },
      "source": [
        "# Function"
      ]
    },
    {
      "cell_type": "markdown",
      "metadata": {
        "id": "vM6qpxKQZ3M0"
      },
      "source": [
        "Fungsi len() untuk mengukur jumlah elemen dalam sebuah list dan fungsi print() untuk menampilkan pesan pada layar konsl merupakan contoh bentuk dari bentuk fungsi yang telah disediakan oleh bahasa pemograman Python atau dengan kata lain *built-in funtions*.\n",
        "\n",
        "Selain fungsi yang telah disediakan oleh Python, Python mengizinkan untuk mendeklarasikan fungsi dalam kode ynag dituliskan yang dikenal dengan*user defined fuction.*\n",
        "```\n",
        "def nama_fungsi(argumentasi):\n",
        "statement_1\n",
        "-\n",
        "statement_2\n",
        "return returned_value\n",
        "```\n",
        "\n",
        "*  **nama_fungsi** adalah nama untuk fungsi yang Anda definisikan, memilki aturan seperti penamaan variabel\n",
        "*   **argument** adalah variabel masukan ke fungsi, bisa tanpa variabel, satu variabel atau lebih\n",
        "*  **statement_1** - statement_n adalah algoritma yang tela Anda transfer dalam bahasa Python yang merupakan inti dari fungsi yang Anda definisikan. Seluruh statement adalah menjorok (indent) ke dalam seperti yang pernah Anda pelajari pada contitioning dan looping\n",
        "*  **return_value** adalah variabel output dari fungsi Anda, bisa tanpa variabel, satu variabel atau lebih."
      ]
    },
    {
      "cell_type": "markdown",
      "metadata": {
        "id": "6B2fqX6RaV1Y"
      },
      "source": [
        "##Argumen dan Parameter\n",
        "\n",
        "*  **Parameter** adalah variabel yang digunakan dalam deklarasi fungsi\n",
        "*  **Argumen** adalah nilai yang diberikan saat pemanggilan fungsi."
      ]
    },
    {
      "cell_type": "code",
      "metadata": {
        "colab": {
          "base_uri": "https://localhost:8080/"
        },
        "id": "AN3pCzJBfIdt",
        "outputId": "097f1587-6bd8-429d-ef86-8b224c247940"
      },
      "source": [
        "def print_nama(nama):   # 'nama' adalah parameter\n",
        "  print(nama)\n",
        "\n",
        "  print_nama(\"Budi\") # \"Budi' adalah argumen"
      ],
      "execution_count": null,
      "outputs": [
        {
          "output_type": "stream",
          "name": "stdout",
          "text": [
            "Budi\n"
          ]
        }
      ]
    },
    {
      "cell_type": "markdown",
      "metadata": {
        "id": "evQV2pseb7Ue"
      },
      "source": [
        "#Argumen posisi dan kata kunci\n",
        "\n",
        "Kita bisa menyatakan argumen sebagai argumen posisi atau kata kunci. Beberapa manfaat argumen kata kunci dapat berupa:\n",
        "*  Kita dapat menyebut argumen dengan nama mereka\n",
        "*  Kita dapat mengatur ulang argumen dengan cara yang yang membuatnya paling mudah dibaca"
      ]
    },
    {
      "cell_type": "code",
      "metadata": {
        "colab": {
          "base_uri": "https://localhost:8080/"
        },
        "id": "jGqF_8wHii6i",
        "outputId": "4b723aff-b543-4dca-ca8a-43f483607bbf"
      },
      "source": [
        "def angka(a, b, c):\n",
        "    print(a, b, c)\n",
        "\n",
        "# argument posisi\n",
        "# argumen berdasarkan posisinya\n",
        "angka(1, 2, 3)\n",
        "\n",
        "# argumen berdasarkan kata kuncinya\n",
        "angka(a=1, b=2, c=3)\n",
        "angka(c=3, b=2, a=1)\n",
        "# Catatan: Jika sudah diberi kunci maka urutan tidak menjadi penting\n",
        "\n",
        "# campuran antara argumen posisi dan argumen kata kunci\n",
        "angka(1, b=2, c=3)\n",
        "\n",
        "# Ini tidak diijinkan;\n",
        "# foo(1, b=2, 3) # argumen posisional setelah arguemn kunci\n",
        "# foo(1, b=2, a=3) # terdapat dua nilai untuk  argumen kunci 'a'"
      ],
      "execution_count": null,
      "outputs": [
        {
          "output_type": "stream",
          "name": "stdout",
          "text": [
            "1 2 3\n",
            "1 2 3\n",
            "1 2 3\n",
            "1 2 3\n"
          ]
        }
      ]
    },
    {
      "cell_type": "markdown",
      "metadata": {
        "id": "pNVfVWXolCjw"
      },
      "source": [
        "# Argumen Default\n",
        "Fungsi dapat memiliki argumen default degan niali yang telah ditentukan sebelumnya. Argumen ini dapat ditinggalkan dan nilai default kemudian diteruskan ke fungsi, atau argumen dapat dirubah dengan nilai yang berbeda. Perhatikan bahwa argumen default harus ditentukan sebagai **parameter terakhir** dalam suatu fungsi."
      ]
    },
    {
      "cell_type": "code",
      "metadata": {
        "id": "tVuUngvyo9Ip",
        "colab": {
          "base_uri": "https://localhost:8080/"
        },
        "outputId": "4d98dac3-4f57-49fe-97e5-f9481ef3cabf"
      },
      "source": [
        "# Argumen default\n",
        "def angka2(a, b, c, d=4):\n",
        "    print(a, b, c, d)\n",
        "\n",
        "angka2(1, 2, 3, 4) \n",
        "angka2(1, b=2, c=3, d=100) \n",
        "\n",
        "# argumen default harus diletakkan terakhir"
      ],
      "execution_count": null,
      "outputs": [
        {
          "output_type": "stream",
          "name": "stdout",
          "text": [
            "1 2 3 4\n",
            "1 2 3 100\n"
          ]
        }
      ]
    },
    {
      "cell_type": "markdown",
      "metadata": {
        "id": "Y_gG2UxqraAN"
      },
      "source": [
        "##Praktik membuat Fungsi"
      ]
    },
    {
      "cell_type": "code",
      "metadata": {
        "id": "D6-c_hRFpITZ"
      },
      "source": [
        "x = 1\n",
        "y = 2\n",
        "x*y"
      ],
      "execution_count": null,
      "outputs": []
    },
    {
      "cell_type": "code",
      "metadata": {
        "id": "xs1_tUOwrzNH",
        "colab": {
          "base_uri": "https://localhost:8080/"
        },
        "outputId": "f405f4c9-1519-465f-cb34-69ee38036cd0"
      },
      "source": [
        "def penjumlahan(x, y): #input\n",
        "  a=x+y                #proses\n",
        "  return a             #output\n",
        "\n",
        "penjumlahan (1, 2)     #menggunakan fungsi"
      ],
      "execution_count": null,
      "outputs": [
        {
          "output_type": "execute_result",
          "data": {
            "text/plain": [
              "3"
            ]
          },
          "metadata": {},
          "execution_count": 56
        }
      ]
    },
    {
      "cell_type": "markdown",
      "metadata": {
        "id": "HHIL0Em_ga6f"
      },
      "source": [
        "penjumlahan yang memungkinkan untuk tiga bilangan"
      ]
    },
    {
      "cell_type": "code",
      "metadata": {
        "id": "2RS_dwqUsidH",
        "colab": {
          "base_uri": "https://localhost:8080/"
        },
        "outputId": "acb5d22a-13dc-457d-bd3a-4f18b048e78c"
      },
      "source": [
        "def penjumlahan (x,y,z= None):\n",
        "    if (z==None) :\n",
        "        return x+y\n",
        "    else:\n",
        "        return x+y+z\n",
        "\n",
        "print(penjumlahan(1, 2)) \n",
        "print(penjumlahan(1, 2,3))"
      ],
      "execution_count": null,
      "outputs": [
        {
          "output_type": "stream",
          "name": "stdout",
          "text": [
            "3\n",
            "6\n"
          ]
        }
      ]
    },
    {
      "cell_type": "markdown",
      "metadata": {
        "id": "sKbTRZqNtLd2"
      },
      "source": [
        "menyimpan hasil fungsi dalam variabel"
      ]
    },
    {
      "cell_type": "code",
      "metadata": {
        "id": "qJKSGYu-tRpc",
        "colab": {
          "base_uri": "https://localhost:8080/",
          "height": 129
        },
        "outputId": "1f0e6735-8a26-4a6c-abb4-d72c3c5a6d17"
      },
      "source": [
        " def penjumlahan(x, y):\n",
        "     return x + y\n",
        "\n",
        "  a = penjumlahan\n",
        "  a(1, 2)"
      ],
      "execution_count": null,
      "outputs": [
        {
          "output_type": "error",
          "ename": "IndentationError",
          "evalue": "ignored",
          "traceback": [
            "\u001b[0;36m  File \u001b[0;32m\"<ipython-input-60-0f29aaee57a7>\"\u001b[0;36m, line \u001b[0;32m4\u001b[0m\n\u001b[0;31m    a = penjumlahan\u001b[0m\n\u001b[0m                   ^\u001b[0m\n\u001b[0;31mIndentationError\u001b[0m\u001b[0;31m:\u001b[0m unindent does not match any outer indentation level\n"
          ]
        }
      ]
    },
    {
      "cell_type": "markdown",
      "metadata": {
        "id": "Gf8KOnU0tmh3"
      },
      "source": [
        "###Latihan 1"
      ]
    },
    {
      "cell_type": "markdown",
      "metadata": {
        "id": "MJZ4nOJCttol"
      },
      "source": [
        "Buatlah function Pythagoras dengan input panjang tinggi dan alas segitiga untuk menghasilkan output nilai panjang sisi miring."
      ]
    },
    {
      "cell_type": "code",
      "metadata": {
        "id": "H9CavuFXuIXn",
        "colab": {
          "base_uri": "https://localhost:8080/"
        },
        "outputId": "fe98119f-b5f9-4303-806c-86c9976610c1"
      },
      "source": [
        "# Ketikkan codemu\n",
        "\n",
        "#misalkan k: sisi alas l= sisi tinggi m=sisi miring\n",
        "def rumus_pytagoras(k, l):\n",
        "  m = (k ** 2 + l ** 2) ** 0.5\n",
        "  return m\n",
        "rumus_pytagoras(15, 3)"
      ],
      "execution_count": null,
      "outputs": [
        {
          "output_type": "execute_result",
          "data": {
            "text/plain": [
              "15.297058540778355"
            ]
          },
          "metadata": {},
          "execution_count": 47
        }
      ]
    },
    {
      "cell_type": "markdown",
      "metadata": {
        "id": "WNlAAvGvuOA3"
      },
      "source": [
        "### Latihan 2"
      ]
    },
    {
      "cell_type": "markdown",
      "metadata": {
        "id": "6OJu3EYfuRVB"
      },
      "source": [
        "Buatlah Function luas permukaan balok dengan input argumennya panjang, lebar, dan tinggi dari balok untuk menghasilkan output nilai luas permukaan balok tersebut."
      ]
    },
    {
      "cell_type": "code",
      "metadata": {
        "id": "jr3M0oGtuyk3",
        "colab": {
          "base_uri": "https://localhost:8080/"
        },
        "outputId": "08f73c0b-950c-4c0f-9a61-a3a48813337c"
      },
      "source": [
        "# Ketikkan codemu\n",
        "\n",
        "#misalkan lp = luas permukaan balok p= panjang balok q= tinggi balok r= lebar balok\n",
        "def luas_permukaan_balok(p, q, r):\n",
        "  lp = 2 * ((p * q) + (p * r) + (q * r))\n",
        "  return lp\n",
        "\n",
        "luas_permukaan_balok(12, 3, 8.8)"
      ],
      "execution_count": null,
      "outputs": [
        {
          "output_type": "execute_result",
          "data": {
            "text/plain": [
              "336.00000000000006"
            ]
          },
          "metadata": {},
          "execution_count": 54
        }
      ]
    },
    {
      "cell_type": "code",
      "metadata": {
        "id": "vqG_KW9jCbTH"
      },
      "source": [
        ""
      ],
      "execution_count": null,
      "outputs": []
    }
  ]
}