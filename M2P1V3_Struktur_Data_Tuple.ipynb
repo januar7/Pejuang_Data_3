{
  "nbformat": 4,
  "nbformat_minor": 0,
  "metadata": {
    "colab": {
      "name": "M2P1V3_Struktur_Data_Tuple.ipynb",
      "provenance": []
    },
    "kernelspec": {
      "name": "python3",
      "display_name": "Python 3"
    },
    "language_info": {
      "name": "python"
    }
  },
  "cells": [
    {
      "cell_type": "markdown",
      "metadata": {
        "id": "SRgg1hKLIxf1"
      },
      "source": [
        "#Struktur Data Tuple"
      ]
    },
    {
      "cell_type": "markdown",
      "metadata": {
        "id": "q6Iuwn5AI6Am"
      },
      "source": [
        "Tuple dalah jenis dari struktur data yang tidak dapat diubah elemennya. Umumnya tuple digunakan untuk data yang bersifat sekali tulis ,dan dapat dieksekusi lebih cepat. Tuple didefinisikan dengan kurung dan .elemen yag dipisahkan dengan koma."
      ]
    },
    {
      "cell_type": "code",
      "metadata": {
        "colab": {
          "base_uri": "https://localhost:8080/"
        },
        "id": "zW3WzKlOJedj",
        "outputId": "c014156a-5779-439b-f72d-40cac6caddaf"
      },
      "source": [
        "#Contoh Tuple\n",
        "T1 = (1, \"dua\", True, 1+2j)\n",
        "print(\"ini adalah tuple\", T1)"
      ],
      "execution_count": 2,
      "outputs": [
        {
          "output_type": "stream",
          "name": "stdout",
          "text": [
            "ini adalah tuple (1, 'dua', True, (1+2j))\n"
          ]
        }
      ]
    },
    {
      "cell_type": "code",
      "metadata": {
        "colab": {
          "base_uri": "https://localhost:8080/"
        },
        "id": "WQpKvWBQInXL",
        "outputId": "a5b78faf-09d6-4e12-9c5a-5b2d0cbc0be1"
      },
      "source": [
        "#Menampilkan tipe struktur data\n",
        "type(T1)"
      ],
      "execution_count": 3,
      "outputs": [
        {
          "output_type": "execute_result",
          "data": {
            "text/plain": [
              "tuple"
            ]
          },
          "metadata": {},
          "execution_count": 3
        }
      ]
    },
    {
      "cell_type": "markdown",
      "metadata": {
        "id": "seGuyqvqKoMx"
      },
      "source": [
        "**Latihan**"
      ]
    },
    {
      "cell_type": "code",
      "metadata": {
        "colab": {
          "base_uri": "https://localhost:8080/"
        },
        "id": "EVwXIO_KKrRR",
        "outputId": "7c29d977-b54f-426c-c21c-7a26a34461c1"
      },
      "source": [
        "#Buatlah tuplemu sendiri\n",
        "\n",
        "T3 = (2, \"lima\", True, 5-3, 3+2j)\n",
        "print(\"Ini adalah tuple T3\", T3)\n"
      ],
      "execution_count": 15,
      "outputs": [
        {
          "output_type": "stream",
          "name": "stdout",
          "text": [
            "Ini adalah tuplt (2, 'lima', True, 2, (3+2j))\n"
          ]
        }
      ]
    },
    {
      "cell_type": "markdown",
      "metadata": {
        "id": "UNKgZTpHKz1R"
      },
      "source": [
        "**Sifat-sifat Tuple**"
      ]
    },
    {
      "cell_type": "code",
      "metadata": {
        "colab": {
          "base_uri": "https://localhost:8080/"
        },
        "id": "-ToBXJNwLCYc",
        "outputId": "1f64f300-5146-4d63-902c-2fd100da8765"
      },
      "source": [
        "#Terurut/Ordered\n",
        "T1[0:3]"
      ],
      "execution_count": 4,
      "outputs": [
        {
          "output_type": "execute_result",
          "data": {
            "text/plain": [
              "(1, 'dua', True)"
            ]
          },
          "metadata": {},
          "execution_count": 4
        }
      ]
    },
    {
      "cell_type": "code",
      "metadata": {
        "colab": {
          "base_uri": "https://localhost:8080/",
          "height": 180
        },
        "id": "bjAk1AvKLXKY",
        "outputId": "7dc815bc-c0a2-44eb-c672-7c4b68dd98d0"
      },
      "source": [
        "#Tidak Bisa Diganti/Immutable\n",
        "T1[2] = \"manusia\""
      ],
      "execution_count": 5,
      "outputs": [
        {
          "output_type": "error",
          "ename": "TypeError",
          "evalue": "ignored",
          "traceback": [
            "\u001b[0;31m---------------------------------------------------------------------------\u001b[0m",
            "\u001b[0;31mTypeError\u001b[0m                                 Traceback (most recent call last)",
            "\u001b[0;32m<ipython-input-5-48d7e760e849>\u001b[0m in \u001b[0;36m<module>\u001b[0;34m()\u001b[0m\n\u001b[1;32m      1\u001b[0m \u001b[0;31m#Tidak Bisa Diganti/Immutable\u001b[0m\u001b[0;34m\u001b[0m\u001b[0;34m\u001b[0m\u001b[0;34m\u001b[0m\u001b[0m\n\u001b[0;32m----> 2\u001b[0;31m \u001b[0mT1\u001b[0m\u001b[0;34m[\u001b[0m\u001b[0;36m2\u001b[0m\u001b[0;34m]\u001b[0m \u001b[0;34m=\u001b[0m \u001b[0;34m\"manusia\"\u001b[0m\u001b[0;34m\u001b[0m\u001b[0;34m\u001b[0m\u001b[0m\n\u001b[0m",
            "\u001b[0;31mTypeError\u001b[0m: 'tuple' object does not support item assignment"
          ]
        }
      ]
    },
    {
      "cell_type": "code",
      "metadata": {
        "colab": {
          "base_uri": "https://localhost:8080/"
        },
        "id": "hC8PhVc9LlGQ",
        "outputId": "61dfeb2c-f193-4d14-87d3-afc4fca6539e"
      },
      "source": [
        "#Dapat Diimdeks/Slicing\n",
        "print(\"elemen kedua dari tuplr T1 adalah: \", T1[1])"
      ],
      "execution_count": 6,
      "outputs": [
        {
          "output_type": "stream",
          "name": "stdout",
          "text": [
            "elemen kedua dari tuplr T1 adalah:  dua\n"
          ]
        }
      ]
    },
    {
      "cell_type": "code",
      "metadata": {
        "colab": {
          "base_uri": "https://localhost:8080/"
        },
        "id": "e-PEZtmmL9ml",
        "outputId": "8f3d0607-fb69-4de0-d568-667ae5aa4a72"
      },
      "source": [
        "#Dapat Diizinkan Duplikasi\n",
        "T2 = (3, 2.4, True, 2.4)\n",
        "T2"
      ],
      "execution_count": 7,
      "outputs": [
        {
          "output_type": "execute_result",
          "data": {
            "text/plain": [
              "(3, 2.4, True, 2.4)"
            ]
          },
          "metadata": {},
          "execution_count": 7
        }
      ]
    },
    {
      "cell_type": "markdown",
      "metadata": {
        "id": "ndau4arpMRje"
      },
      "source": [
        "**Menggabungkan Tuple**"
      ]
    },
    {
      "cell_type": "code",
      "metadata": {
        "colab": {
          "base_uri": "https://localhost:8080/"
        },
        "id": "-qh6b3PMMW4q",
        "outputId": "81c79ade-cc47-4072-8452-ae948e208bc6"
      },
      "source": [
        "#Menggabungkan Tuple\n",
        "T3 = T1 + T2\n",
        "T3"
      ],
      "execution_count": 8,
      "outputs": [
        {
          "output_type": "execute_result",
          "data": {
            "text/plain": [
              "(1, 'dua', True, (1+2j), 3, 2.4, True, 2.4)"
            ]
          },
          "metadata": {},
          "execution_count": 8
        }
      ]
    },
    {
      "cell_type": "markdown",
      "metadata": {
        "id": "gN5__1T2MnrZ"
      },
      "source": [
        "**Latihan 2**"
      ]
    },
    {
      "cell_type": "code",
      "metadata": {
        "colab": {
          "base_uri": "https://localhost:8080/"
        },
        "id": "wwh3E1WXMszi",
        "outputId": "367dc36e-7edc-4b70-cb7c-3428f9c7eb9f"
      },
      "source": [
        "#Buatlah tuple kedua lalu gabungkan 2 tuple yang telah kamu buat\n",
        "T4 = (0.5, \"C++\", \"Bjarne Stroutup\", 25)\n",
        "T4\n",
        "\n",
        "#Menggabungkan Tuple T3 dan T4\n",
        "T7 = T3 + T4\n",
        "T7"
      ],
      "execution_count": 18,
      "outputs": [
        {
          "output_type": "execute_result",
          "data": {
            "text/plain": [
              "(2, 'lima', True, 2, (3+2j), 0.5, 'C++', 'Bjarne Stroutup', 25)"
            ]
          },
          "metadata": {},
          "execution_count": 18
        }
      ]
    }
  ]
}