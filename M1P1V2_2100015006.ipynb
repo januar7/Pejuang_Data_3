{
  "nbformat": 4,
  "nbformat_minor": 0,
  "metadata": {
    "colab": {
      "name": "M1P1V2_2100015006.ipynb",
      "provenance": []
    },
    "kernelspec": {
      "name": "python3",
      "display_name": "Python 3"
    },
    "language_info": {
      "name": "python"
    }
  },
  "cells": [
    {
      "cell_type": "markdown",
      "metadata": {
        "id": "QzRnsxDilhiy"
      },
      "source": [
        "# Pengenalan Python\n"
      ]
    },
    {
      "cell_type": "markdown",
      "metadata": {
        "id": "7GrTOePAoUMY"
      },
      "source": [
        "Python adalah Bahasa pemrograman tingkat tinggi dengan dynamic semantics , bersifat object oriented, dan interpretatif. Bahasa pemrograman ini fokus dikembangkan pada keterbacaan bahasa pemrograman \n",
        "1. **Bahasa Pemrograman Tingkat Tinggi(High Level Programming)** Artinya sintaks kode lebih mudah ditafsirkan oleh manusia.\n",
        "2.**Interpretatif** Ini artinya bahasa ini memerlukan intrepeter atau penerjemah. Ini memungkinkan bagi kita untuk menggunakan Bahasa yang \n",
        "lebih mudah kita pahami. \n",
        "3. **Object Oriented** Ini berarti bahwa bahasa pemrograman ini berorientasi kepada objek. Hal ini membuat Python lebih mudah untuk \n",
        "dikembangkan. \n",
        "4. **Dynamic Semantics Python** secara otomatis akan menyesuaikan tipe dari suatu variable berdasarkan inputnya. \n"
      ]
    },
    {
      "cell_type": "markdown",
      "metadata": {
        "id": "HkHBrMPwqcji"
      },
      "source": [
        "# Mengapa Python?"
      ]
    },
    {
      "cell_type": "markdown",
      "metadata": {
        "id": "hwZINCpIqndc"
      },
      "source": [
        "1. Mudah dipahami \n",
        "2. Gratis & Open Source \n",
        "3. Dinamis \n",
        "4. Memiliki Library Terlengkap untuk Data Sains"
      ]
    },
    {
      "cell_type": "markdown",
      "metadata": {
        "id": "CXLZnNHnq1M2"
      },
      "source": [
        "#Struktur Program Pada Python"
      ]
    },
    {
      "cell_type": "markdown",
      "metadata": {
        "id": "OSZLzUZ4rDPc"
      },
      "source": [
        "Python pada umumnya terdiri dari:\n",
        "1. **Statements**"
      ]
    },
    {
      "cell_type": "code",
      "metadata": {
        "colab": {
          "base_uri": "https://localhost:8080/"
        },
        "id": "h-ikpP9drYUe",
        "outputId": "c6847135-b688-45ad-ffd2-c4e609614944"
      },
      "source": [
        "print(\"belajar python menyenangkan\")\n",
        "print(\"halo dunia\")"
      ],
      "execution_count": 2,
      "outputs": [
        {
          "output_type": "stream",
          "name": "stdout",
          "text": [
            "belajar python menyenangkan\n",
            "halo dunia\n"
          ]
        }
      ]
    },
    {
      "cell_type": "markdown",
      "metadata": {
        "id": "--IUW6avr0Ai"
      },
      "source": [
        "2.**Variables**"
      ]
    },
    {
      "cell_type": "code",
      "metadata": {
        "id": "j90AlfjLsJRw"
      },
      "source": [
        "bilangan1 =5\n",
        "bilangan2 =10\n",
        "kalimat = \"Pejuang Data 3\""
      ],
      "execution_count": 3,
      "outputs": []
    },
    {
      "cell_type": "markdown",
      "metadata": {
        "id": "4m6k7ph7s0h5"
      },
      "source": [
        "3. **Literals**:Simbol-simbol yang dapat kita gunakan untuk mengisi suatu variable  "
      ]
    },
    {
      "cell_type": "markdown",
      "metadata": {
        "id": "SK96bc5GtSdi"
      },
      "source": [
        "4.**Operators**: Simbol-simbol yang dapat digunakan untuk mengubah nilai dari satu variabel dengan melibatkan satu atau lebih variabel dan literal. \n"
      ]
    },
    {
      "cell_type": "code",
      "metadata": {
        "colab": {
          "base_uri": "https://localhost:8080/"
        },
        "id": "028UYgmwtk8s",
        "outputId": "ef68b0c8-9953-4b72-cd6d-3b1578ae6320"
      },
      "source": [
        "bilangan1+bilangan2"
      ],
      "execution_count": 4,
      "outputs": [
        {
          "output_type": "execute_result",
          "data": {
            "text/plain": [
              "15"
            ]
          },
          "metadata": {},
          "execution_count": 4
        }
      ]
    },
    {
      "cell_type": "markdown",
      "metadata": {
        "id": "n1hRxEBPumvF"
      },
      "source": [
        "5. **Reserved Words**: Kumpulan kata-kata yang memiliki makna khusus dalam bahasa pemrograman Python. Kata False, return, dan for merupakan contoh dari reserved words. "
      ]
    },
    {
      "cell_type": "markdown",
      "metadata": {
        "id": "DYboV2dcu3pF"
      },
      "source": [
        "6. Whitespace: Pada bahasa Python, spasi dan tab memiliki makna khusus untuk menandai serangkaian blok dalam kode Python. \n",
        "7. Comments: Comments merupakan sekumpulan teks yang dituliskan di dalam sebuah program yang tidak akan mempengaruhi hasil dari sebuah program. \n",
        "Terdapat dua jenis comments di dalam Python, yaitu: \n",
        "a. single line comment comments dalam satu baris) seperti pada contoh berikut:\n"
      ]
    }
  ]
}